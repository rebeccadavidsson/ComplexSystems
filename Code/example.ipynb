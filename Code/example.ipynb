{
 "cells": [
  {
   "cell_type": "markdown",
   "metadata": {},
   "source": [
    "## Running the model\n",
    "This notebook shows you how to import and run the model. It will also show a method on how to view the model.\n",
    "\n",
    "First, we need to import the necessities:"
   ]
  },
  {
   "cell_type": "code",
   "execution_count": 35,
   "metadata": {},
   "outputs": [],
   "source": [
    "# Use the following line if no plots appear.\n",
    "# %matplotlib inline\n",
    "from model import Environment\n",
    "from plot import plot_continuous_notebook\n",
    "import matplotlib.pyplot as plt"
   ]
  },
  {
   "cell_type": "markdown",
   "metadata": {
    "collapsed": true
   },
   "source": [
    "This creates an environment with all the default values. The values that can be set are:\n",
    "- $N$ (int): number of ants\n",
    "- $g$ (float): the max group size of an Ant relative to N\n",
    "- size (int): the size of the system (size * size)\n",
    "- $p_{uf}$ (float): the probability that Unassigned changes to Follower\n",
    "- $p_{pu}$ (float): the probability that Pheromone changes to Unassigned\n",
    "- $p_{up}$ (float): the probability that Unassigned changes to Pheromone\n",
    "- $p_{fl}$ (float): the probability that Follower changes to Leader\n",
    "- $p_{lu}$ (float): the probability that Leader changes to Unassigned\n",
    "- ratio (float): the start ratio of leaders (1 - ratio is the start number of Pheromone ants)\n",
    "- moore (bool): True/False whether Moore/vonNeumann is used\n",
    "- grow (bool): True/False whether the system grows over time or not"
   ]
  },
  {
   "cell_type": "markdown",
   "metadata": {},
   "source": [
    "It is now possible to create our environment and view it:"
   ]
  },
  {
   "cell_type": "code",
   "execution_count": 37,
   "metadata": {},
   "outputs": [
    {
     "data": {
      "text/plain": [
       "<Figure size 432x288 with 0 Axes>"
      ]
     },
     "metadata": {},
     "output_type": "display_data"
    },
    {
     "data": {
      "text/plain": [
       "<Figure size 432x288 with 0 Axes>"
      ]
     },
     "metadata": {},
     "output_type": "display_data"
    }
   ],
   "source": [
    "# Create the environment for 10 ants\n",
    "steps = 1\n",
    "env = Environment(N=10, g=1, size=10, p_uf=0.5, p_pu=0.1, p_up=0.5, p_fl=0.8, p_lu=0.05,\n",
    "    ratio=0.5, moore=False, grow=False)\n",
    "# Use the continuous plot function from plot.py to animate the model\n",
    "# plt.xkcd()\n",
    "plot_continuous_notebook(env, steps)"
   ]
  },
  {
   "cell_type": "code",
   "execution_count": null,
   "metadata": {},
   "outputs": [],
   "source": []
  },
  {
   "cell_type": "code",
   "execution_count": null,
   "metadata": {},
   "outputs": [],
   "source": []
  }
 ],
 "metadata": {
  "kernelspec": {
   "display_name": "Python 3",
   "language": "python",
   "name": "python3"
  },
  "language_info": {
   "codemirror_mode": {
    "name": "ipython",
    "version": 3
   },
   "file_extension": ".py",
   "mimetype": "text/x-python",
   "name": "python",
   "nbconvert_exporter": "python",
   "pygments_lexer": "ipython3",
   "version": "3.7.1"
  }
 },
 "nbformat": 4,
 "nbformat_minor": 2
}
