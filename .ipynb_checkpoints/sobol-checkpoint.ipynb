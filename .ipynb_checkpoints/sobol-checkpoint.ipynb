{
 "cells": [
  {
   "cell_type": "code",
   "execution_count": 19,
   "metadata": {},
   "outputs": [],
   "source": [
    "# Imports\n",
    "%matplotlib inline\n",
    "import pandas as pd\n",
    "import numpy as np\n",
    "\n",
    "import plot\n",
    "import matplotlib.pyplot as plt\n",
    "from model import Environment\n",
    "from tqdm import tqdm\n",
    "\n",
    "import seaborn as sns\n",
    "sns.set()\n",
    "\n",
    "#Sensitivity Analysis\n",
    "from SALib.analyze import sobol\n",
    "from SALib.sample import saltelli\n",
    "from SALib.analyze import sobol\n",
    "from SALib.test_functions import Ishigami"
   ]
  },
  {
   "cell_type": "code",
   "execution_count": 51,
   "metadata": {},
   "outputs": [
    {
     "ename": "NameError",
     "evalue": "name 'decay' is not defined",
     "output_type": "error",
     "traceback": [
      "\u001b[0;31m---------------------------------------------------------------------------\u001b[0m",
      "\u001b[0;31mNameError\u001b[0m                                 Traceback (most recent call last)",
      "\u001b[0;32m<ipython-input-51-640cb6eb0a18>\u001b[0m in \u001b[0;36m<module>\u001b[0;34m\u001b[0m\n\u001b[1;32m     24\u001b[0m \u001b[0;34m\u001b[0m\u001b[0m\n\u001b[1;32m     25\u001b[0m     env = Environment(width=width, height=height, n_colonies=1,\n\u001b[0;32m---> 26\u001b[0;31m                               \u001b[0mn_ants\u001b[0m\u001b[0;34m=\u001b[0m\u001b[0;36m30\u001b[0m\u001b[0;34m,\u001b[0m \u001b[0mn_obstacles\u001b[0m\u001b[0;34m=\u001b[0m\u001b[0;36m10\u001b[0m\u001b[0;34m,\u001b[0m \u001b[0mdecay\u001b[0m\u001b[0;34m=\u001b[0m\u001b[0mdecay\u001b[0m\u001b[0;34m,\u001b[0m \u001b[0msigma\u001b[0m\u001b[0;34m=\u001b[0m\u001b[0msigma\u001b[0m\u001b[0;34m,\u001b[0m\u001b[0;34m\u001b[0m\u001b[0;34m\u001b[0m\u001b[0m\n\u001b[0m\u001b[1;32m     27\u001b[0m                               moore=False, pheromone_strength=strength)\n",
      "\u001b[0;31mNameError\u001b[0m: name 'decay' is not defined"
     ]
    }
   ],
   "source": [
    "if __name__ == '__main__':\n",
    "    problem = {\n",
    "        'num_vars': 3,\n",
    "        'names': ['decay', 'sigma', 'pheromone_strength'],\n",
    "        'bounds': [[0.7, 0.99],\n",
    "                   [0.01, 0.6],\n",
    "                   [0.8, 2.5]]\n",
    "    }\n",
    "    \n",
    "    param_values = saltelli.sample(problem, 1000)\n",
    "    \n",
    "    # Create sets of parameters\n",
    "    param_sets = [tuple(param_values[i, :]) for i in range(len(param_values))]\n",
    "\n",
    "    param_names = problem['names']\n",
    "    \n",
    "    # Set the repetitions and the amount of steps\n",
    "    replicates = 1\n",
    "    max_steps = 500\n",
    "    \n",
    "    width = 26\n",
    "    height = 26\n",
    "    steps = 10\n",
    "    n = 12\n",
    "    \n",
    "    env = Environment(width=width, height=height, n_colonies=1,\n",
    "                              n_ants=30, n_obstacles=10, decay=decay, sigma=sigma,\n",
    "                              moore=False, pheromone_strength=strength)\n"
   ]
  },
  {
   "cell_type": "code",
   "execution_count": null,
   "metadata": {},
   "outputs": [],
   "source": []
  },
  {
   "cell_type": "code",
   "execution_count": null,
   "metadata": {},
   "outputs": [],
   "source": []
  }
 ],
 "metadata": {
  "kernelspec": {
   "display_name": "Python 3",
   "language": "python",
   "name": "python3"
  },
  "language_info": {
   "codemirror_mode": {
    "name": "ipython",
    "version": 3
   },
   "file_extension": ".py",
   "mimetype": "text/x-python",
   "name": "python",
   "nbconvert_exporter": "python",
   "pygments_lexer": "ipython3",
   "version": "3.7.1"
  }
 },
 "nbformat": 4,
 "nbformat_minor": 4
}
